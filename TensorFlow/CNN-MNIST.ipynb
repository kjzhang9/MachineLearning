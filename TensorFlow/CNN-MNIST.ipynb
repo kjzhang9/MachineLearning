{
 "cells": [
  {
   "cell_type": "code",
   "execution_count": 1,
   "metadata": {
    "collapsed": true
   },
   "outputs": [],
   "source": [
    "%matplotlib inline\n",
    "import matplotlib.pyplot as plt\n",
    "import tensorflow as tf\n",
    "import numpy as np\n",
    "from sklearn.metrics import confusion_matrix\n",
    "import time\n",
    "from datetime import timedelta\n",
    "import math"
   ]
  },
  {
   "cell_type": "code",
   "execution_count": 2,
   "metadata": {
    "collapsed": true
   },
   "outputs": [],
   "source": [
    "# convolutional layer 1.\n",
    "filter_size1 = 5  # convolution filters are 5x5 pixels\n",
    "num_filters1 = 16 # there are 16 filters\n",
    "# convolutional layer 2.\n",
    "filter_size2 = 5 # convolution filters are 5X5 pixels\n",
    "num_filters2 = 36 # there are 36 filters\n",
    "# fully-connected layer\n",
    "fc_size = 128 # number of neurons in fully-connected layer"
   ]
  },
  {
   "cell_type": "code",
   "execution_count": 3,
   "metadata": {},
   "outputs": [
    {
     "name": "stdout",
     "output_type": "stream",
     "text": [
      "Extracting MNIST_data/train-images-idx3-ubyte.gz\n",
      "Extracting MNIST_data/train-labels-idx1-ubyte.gz\n",
      "Extracting MNIST_data/t10k-images-idx3-ubyte.gz\n",
      "Extracting MNIST_data/t10k-labels-idx1-ubyte.gz\n"
     ]
    }
   ],
   "source": [
    "# load MNIST data\n",
    "from tensorflow.examples.tutorials.mnist import input_data\n",
    "data = input_data.read_data_sets('MNIST_data/', one_hot=True)"
   ]
  },
  {
   "cell_type": "code",
   "execution_count": 5,
   "metadata": {},
   "outputs": [
    {
     "name": "stdout",
     "output_type": "stream",
     "text": [
      "(10000, 10)\n",
      "(10000,)\n"
     ]
    }
   ],
   "source": [
    "print(data.test.labels.shape)\n",
    "data.test.cls = np.argmax(data.test.labels, axis=1)\n",
    "print(data.test.cls.shape)"
   ]
  },
  {
   "cell_type": "code",
   "execution_count": 6,
   "metadata": {
    "collapsed": true
   },
   "outputs": [],
   "source": [
    "# data dimensional\n",
    "ima_size = 28 # each dimensional has 28 pixels\n",
    "# images are stored in one-dimensional arrays \n",
    "ima_size_flate = ima_size ** 2\n",
    "ima_shape = (ima_size, ima_size)\n",
    "num_channels = 1 # 1 channel for gray-scale\n",
    "# number of clasees, one class for each of 10 digits\n",
    "num_classes = 10"
   ]
  },
  {
   "cell_type": "code",
   "execution_count": 7,
   "metadata": {
    "collapsed": true
   },
   "outputs": [],
   "source": [
    "def plot_images(images, cls_true, cls_pred=None):\n",
    "    assert len(images) == len(cls_true) == 9\n",
    "    \n",
    "    fig, axes = plt.subplots(3, 3)\n",
    "    fig.subplots_adjust(hspace=0.3, wspace=0.3)\n",
    "    print(axes.flat)\n",
    "    \n",
    "    for i, ax in enumerate(axes.flat):\n",
    "        ax.imshow(images[i].reshape(ima_shape), cmap='binary')\n",
    "        \n",
    "        if cls_pred is None:\n",
    "            xlabel = \"True: {}\".format(cls_true[i])\n",
    "        else:\n",
    "            xlabel = \"True: {0}, Pred: {1}\".format(cls_true[i], cls_pred[i])\n",
    "        # set xlabel, remove xticks, yticks\n",
    "        ax.set_xlabel(xlabel)\n",
    "        ax.set_xticks([])\n",
    "        ax.set_yticks([])\n",
    "    plt.show()"
   ]
  },
  {
   "cell_type": "code",
   "execution_count": 8,
   "metadata": {},
   "outputs": [
    {
     "name": "stdout",
     "output_type": "stream",
     "text": [
      "<numpy.flatiter object at 0x4d70e00>\n"
     ]
    },
    {
     "data": {
      "image/png": "[encoded data removed]",
      "text/plain": [
       "<matplotlib.figure.Figure at 0x7f5b2fee5b70>"
      ]
     },
     "metadata": {},
     "output_type": "display_data"
    }
   ],
   "source": [
    "# plot test images\n",
    "images = data.test.images[:9] # take the first 9 images from test data\n",
    "cls_true = data.test.cls[:9] # take the first 9 images labels\n",
    "plot_images(images=images, cls_true=cls_true)"
   ]
  },
  {
   "cell_type": "code",
   "execution_count": 9,
   "metadata": {
    "collapsed": true
   },
   "outputs": [],
   "source": [
    "def new_weights(shape):\n",
    "    # tf.truncated_normal will create normal distribution random dataes\n",
    "    return tf.Variable(tf.truncated_normal(shape, stddev=0.05))\n",
    "def new_biases(length):\n",
    "    return tf.Variable(tf.constant(0.05, shape=[length]))"
   ]
  },
  {
   "cell_type": "code",
   "execution_count": 20,
   "metadata": {
    "collapsed": true
   },
   "outputs": [],
   "source": [
    "# create new convolutional layer\n",
    "def new_conv_layer(input,                # the previous layer\n",
    "                   num_input_channels,   # Num. channels in prev. layer\n",
    "                   filter_size,          # weight and height of each filter\n",
    "                   num_filters,          # Num. of filters\n",
    "                   use_pooling=True):    # use 2x2 max-pooling\n",
    "    shape = [filter_size, filter_size, num_input_channels, num_filters]\n",
    "    # create new weights correspond filters with the given shape.\n",
    "    weights = new_weights(shape=shape)\n",
    "    # create new  biases, one for each filter\n",
    "    biases = new_biases(length=num_filters)\n",
    "    # create the TF operation for convolution.\n",
    "    # Note the strides are set to 1 in all dimensions\n",
    "    # because the first is for the image-number and\n",
    "    # the last is for the input-channel.\n",
    "    # e.g.strides=[1, 2, 2, 1]would mean that the filter \n",
    "    # is moved 2 pixels across the x- and y- axis of the image.\n",
    "    # The padding is set to 'SAME' which means the input image\n",
    "    # is padded with zeros so the size of the output is the same.\n",
    "    layer = tf.nn.conv2d(input=input,\n",
    "                         filter=weights,\n",
    "                         strides=[1, 1, 1, 1],\n",
    "                         padding='SAME')\n",
    "    # add the biases to the results of the convolution.\n",
    "    # A bias-value is added to each filter layer.\n",
    "    layer += biases\n",
    "    \n",
    "    if use_pooling:\n",
    "        # This is 2x2 max-pooling, which means that we \n",
    "        # consider 2x2 windows and select the largest value\n",
    "        # in each window. Then we move 2 pixels to the next window.\n",
    "        layer = tf.nn.max_pool(value=layer,\n",
    "                               ksize=[1, 2, 2, 1],\n",
    "                               strides=[1, 2, 2, 1],padding='SAME')\n",
    "    # rectified linear unit (ReLU)\n",
    "    # It calcuates max(x, 0) for each input pixel x.\n",
    "    # This adds some non-linearity to the formula and allows\n",
    "    # us to learn more complicatied functions.\n",
    "    layer = tf.nn.relu(layer)\n",
    "    # Note that ReLU is normally executed before the pooling,\n",
    "    # but since relu(max_pool(x)) == max_pool(relu(x)) we can\n",
    "    # save 75% of the relu-operations by max-pooling first.\n",
    "    \n",
    "    # We return both the resulting layer and the filter-weights\n",
    "    # because we will plot the weights later.\n",
    "    return layer, weights"
   ]
  },
  {
   "cell_type": "code",
   "execution_count": 21,
   "metadata": {
    "collapsed": true
   },
   "outputs": [],
   "source": [
    "def flatten_layer(layer):\n",
    "    '''\n",
    "    the convolution layer will return 4-D tensor, we will\n",
    "    add a full connected layer,so we need to convert this \n",
    "    4-D tensor to 2-D tensor for full connected layer.\n",
    "    '''\n",
    "    # get the shape of the input layer\n",
    "    layer_shape = layer.get_shape() # tensor.get_shape() return a tuple\n",
    "    # The shape of the input layer is assumed to be:\n",
    "    # layer_shape = [num_images, ima-height, ima_width, num_channels]\n",
    "    # The number of features is: ima_height*ima_width*num_channels\n",
    "    # we can use a function from TF to calculate this.\n",
    "    num_features = layer_shape[1:].num_elements()\n",
    "    # Reshape the layer to [num_images, num_features].\n",
    "    # Note that we just set the size of the second dimension\n",
    "    # to num_features and the size of the first dimension to -1\n",
    "    # which means the size in that dimension is calculated \n",
    "    # so the total size of the tensor is unchanged from the reshapeing.\n",
    "    layer_flat = tf.reshape(layer, [-1, num_features])\n",
    "    # The shape of the flatted layer is now:\n",
    "    # [num_images, ima_height*ima_width*num_channels]\n",
    "    return layer_flat, num_features"
   ]
  },
  {
   "cell_type": "code",
   "execution_count": 32,
   "metadata": {
    "collapsed": true
   },
   "outputs": [],
   "source": [
    "def new_fc_layer(input,        # the previous layer\n",
    "                 num_inputs,   # Num. inputs from prev. layer\n",
    "                 num_outputs,  # Num. outputs\n",
    "                 use_relu=True): # use relu\n",
    "    # create new weights and biases\n",
    "    weights = new_weights(shape=[num_inputs, num_outputs])\n",
    "    biases = new_biases(length=num_outputs)\n",
    "    # calculate the layer as the matrix multiplication of\n",
    "    # the input and weights, and then add the bias-values\n",
    "    layer = tf.matmul(input, weights) + biases\n",
    "    \n",
    "    if use_relu:\n",
    "        layer = tf.nn.relu(layer)\n",
    "    return layer"
   ]
  },
  {
   "cell_type": "code",
   "execution_count": 33,
   "metadata": {
    "collapsed": true
   },
   "outputs": [],
   "source": [
    "x = tf.placeholder(tf.float32, shape=[None, ima_size_flate], name='x')\n",
    "# for convolution layer, we hope reshape x to 4-D tensor\n",
    "x_image = tf.reshape(x, [-1, ima_size, ima_size, num_channels])\n",
    "y_true = tf.placeholder(tf.float32, shape=[None, 10], name='y_true')\n",
    "y_true_cls = tf.argmax(y_true, axis=1)"
   ]
  },
  {
   "cell_type": "code",
   "execution_count": 34,
   "metadata": {},
   "outputs": [],
   "source": [
    "# create the first convelution layer\n",
    "layer_conv1, weights_conv1 = \\\n",
    "    new_conv_layer(input=x_image,\n",
    "                   num_input_channels=num_channels,\n",
    "                   filter_size=filter_size1,\n",
    "                   num_filters=num_filters1,\n",
    "                   use_pooling=True)"
   ]
  },
  {
   "cell_type": "code",
   "execution_count": 35,
   "metadata": {},
   "outputs": [
    {
     "data": {
      "text/plain": [
       "<tf.Tensor 'Relu_2:0' shape=(?, 14, 14, 16) dtype=float32>"
      ]
     },
     "execution_count": 35,
     "metadata": {},
     "output_type": "execute_result"
    }
   ],
   "source": [
    "layer_conv1"
   ]
  },
  {
   "cell_type": "code",
   "execution_count": 36,
   "metadata": {},
   "outputs": [],
   "source": [
    "layer_conv2, weights_conv2 = \\\n",
    "    new_conv_layer(input=layer_conv1,\n",
    "                   num_input_channels=num_filters1,\n",
    "                   filter_size=filter_size2,\n",
    "                   num_filters=num_filters2,\n",
    "                   use_pooling=True)"
   ]
  },
  {
   "cell_type": "code",
   "execution_count": 37,
   "metadata": {},
   "outputs": [
    {
     "data": {
      "text/plain": [
       "<tf.Tensor 'Relu_3:0' shape=(?, 7, 7, 36) dtype=float32>"
      ]
     },
     "execution_count": 37,
     "metadata": {},
     "output_type": "execute_result"
    }
   ],
   "source": [
    "layer_conv2"
   ]
  },
  {
   "cell_type": "code",
   "execution_count": 38,
   "metadata": {},
   "outputs": [
    {
     "name": "stdout",
     "output_type": "stream",
     "text": [
      "Tensor(\"Reshape_6:0\", shape=(?, 1764), dtype=float32)\n",
      "1764\n"
     ]
    }
   ],
   "source": [
    "layer_flat, num_features = flatten_layer(layer_conv2)\n",
    "print(layer_flat)\n",
    "print(num_features)"
   ]
  },
  {
   "cell_type": "code",
   "execution_count": 39,
   "metadata": {},
   "outputs": [],
   "source": [
    "# add full connnected layer\n",
    "layer_fc1 = new_fc_layer(input=layer_flat,\n",
    "                         num_inputs=num_features,\n",
    "                         num_outputs=fc_size,\n",
    "                         use_relu=True)"
   ]
  },
  {
   "cell_type": "code",
   "execution_count": 40,
   "metadata": {},
   "outputs": [
    {
     "data": {
      "text/plain": [
       "<tf.Tensor 'Relu_4:0' shape=(?, 128) dtype=float32>"
      ]
     },
     "execution_count": 40,
     "metadata": {},
     "output_type": "execute_result"
    }
   ],
   "source": [
    "layer_fc1"
   ]
  },
  {
   "cell_type": "code",
   "execution_count": 42,
   "metadata": {},
   "outputs": [],
   "source": [
    "# add the second full connected layer\n",
    "layer_fc2 = new_fc_layer(input=layer_fc1,\n",
    "                         num_inputs=fc_size,\n",
    "                         num_outputs=num_classes,\n",
    "                         use_relu=False)"
   ]
  },
  {
   "cell_type": "code",
   "execution_count": 43,
   "metadata": {},
   "outputs": [
    {
     "data": {
      "text/plain": [
       "<tf.Tensor 'add_7:0' shape=(?, 10) dtype=float32>"
      ]
     },
     "execution_count": 43,
     "metadata": {},
     "output_type": "execute_result"
    }
   ],
   "source": [
    "layer_fc2"
   ]
  },
  {
   "cell_type": "code",
   "execution_count": 44,
   "metadata": {
    "collapsed": true
   },
   "outputs": [],
   "source": [
    "# normalize\n",
    "y_pred = tf.nn.softmax(layer_fc2)\n",
    "y_pred_cls = tf.argmax(y_pred, axis=1)"
   ]
  },
  {
   "cell_type": "code",
   "execution_count": 46,
   "metadata": {
    "collapsed": true
   },
   "outputs": [],
   "source": [
    "# the loss function\n",
    "# cross entropy for every image under current model\n",
    "cross_entropy = tf.nn.softmax_cross_entropy_with_logits(logits=layer_fc2,\n",
    "                                                        labels=y_true)\n",
    "# the mean cross entropy of all images under current model\n",
    "cost = tf.reduce_mean(cross_entropy)"
   ]
  },
  {
   "cell_type": "code",
   "execution_count": 47,
   "metadata": {
    "collapsed": true
   },
   "outputs": [],
   "source": [
    "# optimizer\n",
    "optimizer = tf.train.AdamOptimizer(learning_rate=1e-4).minimize(cost)"
   ]
  },
  {
   "cell_type": "code",
   "execution_count": 48,
   "metadata": {
    "collapsed": true
   },
   "outputs": [],
   "source": [
    "correct_prediction = tf.equal(y_pred_cls, y_true_cls)\n",
    "accuracy = tf.reduce_mean(tf.cast(correct_prediction, tf.float32))"
   ]
  },
  {
   "cell_type": "code",
   "execution_count": 49,
   "metadata": {
    "collapsed": true
   },
   "outputs": [],
   "source": [
    "# create session\n",
    "session = tf.Session()\n",
    "# initialize the variables\n",
    "session.run(tf.global_variables_initializer())"
   ]
  },
  {
   "cell_type": "code",
   "execution_count": 54,
   "metadata": {
    "collapsed": true
   },
   "outputs": [],
   "source": [
    "train_batch_size = 64\n",
    "# counter for total number of iterations performed so far\n",
    "total_iterations = 0\n",
    "def optimize(num_iterations):\n",
    "    global total_iterations\n",
    "    start_time = time.time()\n",
    "    \n",
    "    for i in range(total_iterations, total_iterations+num_iterations):\n",
    "        # get a batch of training examples\n",
    "        # a_batch holds a batch of images and\n",
    "        # y_true_batch holds the true labels for these images\n",
    "        x_batch, y_true_batch = data.train.next_batch(train_batch_size)\n",
    "        # put the batch into a dict with the proper names\n",
    "        # for placeholder variables in the TF graph\n",
    "        feed_dict_train = {x: x_batch,\n",
    "                           y_true: y_true_batch}\n",
    "        # run the optimizer using this batch of training data\n",
    "        # TF assigns the variables in feed_dict_train\n",
    "        # to the placeholder variables and then runs the optimizer.\n",
    "        session.run(optimizer, feed_dict=feed_dict_train)\n",
    "        # print status every 100 iterations\n",
    "        if i % 100 == 0:\n",
    "            # calculate the accuracy on the training data\n",
    "            acc = session.run(accuracy, feed_dict=feed_dict_train)\n",
    "            \n",
    "            msg = \"Optimization Iteration: {0:>6}, Training Accuracy:{1:>6.1%}\"\n",
    "            print(msg.format(i+1, acc))\n",
    "    # update the total number of iterations\n",
    "    total_iterations += num_iterations\n",
    "    \n",
    "    end_time = time.time()\n",
    "    time_dif = end_time - start_time\n",
    "    print(\"Time usage:\" + str(timedelta(seconds=int(round(time_dif)))))\n",
    "       "
   ]
  },
  {
   "cell_type": "code",
   "execution_count": 55,
   "metadata": {
    "collapsed": true
   },
   "outputs": [],
   "source": [
    "def plot_example_errors(cls_pred, correct):\n",
    "    # This function is called from print_test_accuracy() below.\n",
    "\n",
    "    # cls_pred is an array of the predicted class-number for\n",
    "    # all images in the test-set.\n",
    "\n",
    "    # correct is a boolean array whether the predicted class\n",
    "    # is equal to the true class for each image in the test-set.\n",
    "\n",
    "    # Negate the boolean array.\n",
    "    incorrect = (correct == False)\n",
    "    \n",
    "    # Get the images from the test-set that have been\n",
    "    # incorrectly classified.\n",
    "    images = data.test.images[incorrect]\n",
    "    \n",
    "    # Get the predicted classes for those images.\n",
    "    cls_pred = cls_pred[incorrect]\n",
    "\n",
    "    # Get the true classes for those images.\n",
    "    cls_true = data.test.cls[incorrect]\n",
    "    \n",
    "    # Plot the first 9 images.\n",
    "    plot_images(images=images[0:9],\n",
    "                cls_true=cls_true[0:9],\n",
    "                cls_pred=cls_pred[0:9])"
   ]
  },
  {
   "cell_type": "code",
   "execution_count": 56,
   "metadata": {},
   "outputs": [
    {
     "name": "stdout",
     "output_type": "stream",
     "text": [
      "Optimization Iteration:      1, Training Accuracy:  7.8%\n",
      "Time usage:0:00:00\n"
     ]
    }
   ],
   "source": [
    "optimize(num_iterations=1)"
   ]
  },
  {
   "cell_type": "code",
   "execution_count": 57,
   "metadata": {},
   "outputs": [
    {
     "name": "stdout",
     "output_type": "stream",
     "text": [
      "Optimization Iteration:    101, Training Accuracy: 67.2%\n",
      "Optimization Iteration:    201, Training Accuracy: 89.1%\n",
      "Optimization Iteration:    301, Training Accuracy: 90.6%\n",
      "Optimization Iteration:    401, Training Accuracy: 89.1%\n",
      "Optimization Iteration:    501, Training Accuracy: 92.2%\n",
      "Optimization Iteration:    601, Training Accuracy: 96.9%\n",
      "Optimization Iteration:    701, Training Accuracy: 87.5%\n",
      "Optimization Iteration:    801, Training Accuracy: 87.5%\n",
      "Optimization Iteration:    901, Training Accuracy: 96.9%\n",
      "Time usage:0:00:28\n"
     ]
    }
   ],
   "source": [
    "optimize(num_iterations=900)"
   ]
  },
  {
   "cell_type": "code",
   "execution_count": 71,
   "metadata": {},
   "outputs": [],
   "source": [
    "test_batch_szie = 256\n",
    "def print_test_accuracy(show_examples_errors=False,\n",
    "                        show_confusion_matrix=False):\n",
    "    num_test = len(data.test.images)\n",
    "    cls_pred = np.zeros(shape=num_test, dtype=np.int)\n",
    "    \n",
    "    i = 0\n",
    "    while i < num_test:\n",
    "        j = min(i+test_batch_szie, num_test)\n",
    "        images = data.test.images[i:j, :]\n",
    "        labels = data.test.labels[i:j, :]\n",
    "        feed_dict = {x: images,\n",
    "                     y_true: labels}\n",
    "        cls_pred[i:j] = session.run(y_pred_cls, feed_dict=feed_dict)\n",
    "        i = j\n",
    "        \n",
    "    cls_true = data.test.cls\n",
    "    correct = (cls_true == cls_pred)\n",
    "    correct_sum = correct.sum()\n",
    "    acc = float(correct_sum) / num_test\n",
    "    \n",
    "    msg = \"Accuracy on Test-set: {0:.1%} ({1}/{2})\"\n",
    "    print(msg.format(acc, correct_sum, num_test))\n",
    "    if show_examples_errors:\n",
    "        print(\"Example errors:\")\n",
    "        plot_example_errors(cls_pred=cls_pred, correct=correct)"
   ]
  },
  {
   "cell_type": "code",
   "execution_count": 72,
   "metadata": {},
   "outputs": [
    {
     "name": "stdout",
     "output_type": "stream",
     "text": [
      "Accuracy on Test-set: 93.5% (9347/10000)\n",
      "Example errors:\n",
      "<numpy.flatiter object at 0x4cca410>\n"
     ]
    },
    {
     "data": {
      "image/png": "[encoded data removed]",
      "text/plain": [
       "<matplotlib.figure.Figure at 0x7f5b23ccaa58>"
      ]
     },
     "metadata": {},
     "output_type": "display_data"
    }
   ],
   "source": [
    "print_test_accuracy(show_examples_errors=True)"
   ]
  },
  {
   "cell_type": "code",
   "execution_count": 73,
   "metadata": {},
   "outputs": [
    {
     "name": "stdout",
     "output_type": "stream",
     "text": [
      "Optimization Iteration:   1001, Training Accuracy: 93.8%\n",
      "Optimization Iteration:   1101, Training Accuracy: 92.2%\n",
      "Optimization Iteration:   1201, Training Accuracy: 98.4%\n",
      "Optimization Iteration:   1301, Training Accuracy: 92.2%\n",
      "Optimization Iteration:   1401, Training Accuracy: 95.3%\n",
      "Optimization Iteration:   1501, Training Accuracy: 98.4%\n",
      "Optimization Iteration:   1601, Training Accuracy: 96.9%\n",
      "Optimization Iteration:   1701, Training Accuracy: 96.9%\n",
      "Optimization Iteration:   1801, Training Accuracy: 95.3%\n",
      "Optimization Iteration:   1901, Training Accuracy: 93.8%\n",
      "Optimization Iteration:   2001, Training Accuracy: 96.9%\n",
      "Optimization Iteration:   2101, Training Accuracy: 95.3%\n",
      "Optimization Iteration:   2201, Training Accuracy: 93.8%\n",
      "Optimization Iteration:   2301, Training Accuracy: 98.4%\n",
      "Optimization Iteration:   2401, Training Accuracy: 98.4%\n",
      "Optimization Iteration:   2501, Training Accuracy:100.0%\n",
      "Optimization Iteration:   2601, Training Accuracy:100.0%\n",
      "Optimization Iteration:   2701, Training Accuracy: 98.4%\n",
      "Optimization Iteration:   2801, Training Accuracy: 98.4%\n",
      "Optimization Iteration:   2901, Training Accuracy: 93.8%\n",
      "Optimization Iteration:   3001, Training Accuracy: 92.2%\n",
      "Optimization Iteration:   3101, Training Accuracy: 96.9%\n",
      "Optimization Iteration:   3201, Training Accuracy: 95.3%\n",
      "Optimization Iteration:   3301, Training Accuracy: 98.4%\n",
      "Optimization Iteration:   3401, Training Accuracy: 96.9%\n",
      "Optimization Iteration:   3501, Training Accuracy: 98.4%\n",
      "Optimization Iteration:   3601, Training Accuracy: 93.8%\n",
      "Optimization Iteration:   3701, Training Accuracy: 96.9%\n",
      "Optimization Iteration:   3801, Training Accuracy: 98.4%\n",
      "Optimization Iteration:   3901, Training Accuracy: 98.4%\n",
      "Optimization Iteration:   4001, Training Accuracy:100.0%\n",
      "Optimization Iteration:   4101, Training Accuracy: 98.4%\n",
      "Optimization Iteration:   4201, Training Accuracy: 95.3%\n",
      "Optimization Iteration:   4301, Training Accuracy: 95.3%\n",
      "Optimization Iteration:   4401, Training Accuracy: 98.4%\n",
      "Optimization Iteration:   4501, Training Accuracy: 95.3%\n",
      "Optimization Iteration:   4601, Training Accuracy: 96.9%\n",
      "Optimization Iteration:   4701, Training Accuracy:100.0%\n",
      "Optimization Iteration:   4801, Training Accuracy: 98.4%\n",
      "Optimization Iteration:   4901, Training Accuracy:100.0%\n",
      "Optimization Iteration:   5001, Training Accuracy: 98.4%\n",
      "Optimization Iteration:   5101, Training Accuracy: 98.4%\n",
      "Optimization Iteration:   5201, Training Accuracy: 98.4%\n",
      "Optimization Iteration:   5301, Training Accuracy: 96.9%\n",
      "Optimization Iteration:   5401, Training Accuracy:100.0%\n",
      "Optimization Iteration:   5501, Training Accuracy:100.0%\n",
      "Optimization Iteration:   5601, Training Accuracy: 98.4%\n",
      "Optimization Iteration:   5701, Training Accuracy:100.0%\n",
      "Optimization Iteration:   5801, Training Accuracy:100.0%\n",
      "Optimization Iteration:   5901, Training Accuracy: 96.9%\n",
      "Optimization Iteration:   6001, Training Accuracy:100.0%\n",
      "Optimization Iteration:   6101, Training Accuracy:100.0%\n",
      "Optimization Iteration:   6201, Training Accuracy: 95.3%\n",
      "Optimization Iteration:   6301, Training Accuracy:100.0%\n",
      "Optimization Iteration:   6401, Training Accuracy: 98.4%\n",
      "Optimization Iteration:   6501, Training Accuracy: 96.9%\n",
      "Optimization Iteration:   6601, Training Accuracy: 98.4%\n",
      "Optimization Iteration:   6701, Training Accuracy:100.0%\n",
      "Optimization Iteration:   6801, Training Accuracy: 96.9%\n",
      "Optimization Iteration:   6901, Training Accuracy:100.0%\n",
      "Optimization Iteration:   7001, Training Accuracy:100.0%\n",
      "Optimization Iteration:   7101, Training Accuracy: 98.4%\n",
      "Optimization Iteration:   7201, Training Accuracy:100.0%\n",
      "Optimization Iteration:   7301, Training Accuracy: 98.4%\n",
      "Optimization Iteration:   7401, Training Accuracy: 96.9%\n",
      "Optimization Iteration:   7501, Training Accuracy:100.0%\n",
      "Optimization Iteration:   7601, Training Accuracy: 98.4%\n",
      "Optimization Iteration:   7701, Training Accuracy:100.0%\n",
      "Optimization Iteration:   7801, Training Accuracy:100.0%\n",
      "Optimization Iteration:   7901, Training Accuracy:100.0%\n",
      "Optimization Iteration:   8001, Training Accuracy: 98.4%\n",
      "Optimization Iteration:   8101, Training Accuracy:100.0%\n",
      "Optimization Iteration:   8201, Training Accuracy:100.0%\n",
      "Optimization Iteration:   8301, Training Accuracy:100.0%\n",
      "Optimization Iteration:   8401, Training Accuracy:100.0%\n",
      "Optimization Iteration:   8501, Training Accuracy: 98.4%\n",
      "Optimization Iteration:   8601, Training Accuracy: 98.4%\n",
      "Optimization Iteration:   8701, Training Accuracy:100.0%\n",
      "Optimization Iteration:   8801, Training Accuracy:100.0%\n",
      "Optimization Iteration:   8901, Training Accuracy:100.0%\n",
      "Optimization Iteration:   9001, Training Accuracy:100.0%\n",
      "Optimization Iteration:   9101, Training Accuracy:100.0%\n",
      "Optimization Iteration:   9201, Training Accuracy:100.0%\n",
      "Optimization Iteration:   9301, Training Accuracy:100.0%\n",
      "Optimization Iteration:   9401, Training Accuracy:100.0%\n",
      "Optimization Iteration:   9501, Training Accuracy:100.0%\n",
      "Optimization Iteration:   9601, Training Accuracy: 96.9%\n",
      "Optimization Iteration:   9701, Training Accuracy: 98.4%\n",
      "Optimization Iteration:   9801, Training Accuracy:100.0%\n",
      "Optimization Iteration:   9901, Training Accuracy: 98.4%\n",
      "Time usage:0:04:46\n"
     ]
    }
   ],
   "source": [
    "optimize(num_iterations=9000)"
   ]
  },
  {
   "cell_type": "code",
   "execution_count": 74,
   "metadata": {},
   "outputs": [
    {
     "name": "stdout",
     "output_type": "stream",
     "text": [
      "Accuracy on Test-set: 98.8% (9881/10000)\n",
      "Example errors:\n",
      "<numpy.flatiter object at 0x5799640>\n"
     ]
    },
    {
     "data": {
      "image/png": "[encoded data removed]",
      "text/plain": [
       "<matplotlib.figure.Figure at 0x7f5b239cf0f0>"
      ]
     },
     "metadata": {},
     "output_type": "display_data"
    }
   ],
   "source": [
    "print_test_accuracy(show_examples_errors=True)"
   ]
  },
  {
   "cell_type": "code",
   "execution_count": null,
   "metadata": {
    "collapsed": true
   },
   "outputs": [],
   "source": []
  }
 ],
 "metadata": {
  "kernelspec": {
   "display_name": "Python 3",
   "language": "python",
   "name": "python3"
  },
  "language_info": {
   "codemirror_mode": {
    "name": "ipython",
    "version": 3
   },
   "file_extension": ".py",
   "mimetype": "text/x-python",
   "name": "python",
   "nbconvert_exporter": "python",
   "pygments_lexer": "ipython3",
   "version": "3.6.1"
  }
 },
 "nbformat": 4,
 "nbformat_minor": 2
}
